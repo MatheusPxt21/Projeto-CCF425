{
  "cells": [
    {
      "cell_type": "markdown",
      "metadata": {
        "id": "6vLSIshvUiHq"
      },
      "source": [
        "# **Projeto de CCF 425 - Introdução à Ciência de Dados**"
      ]
    },
    {
      "cell_type": "markdown",
      "metadata": {
        "id": "qHdmzLENUqkQ"
      },
      "source": [
        "## Introdução\n",
        "  <p>Neste projeto, realizaremos um estudo baseado no conjunto de dados BrStats, disponibilizado pelo Prof. Fabrício e pelo monitor João Marcos, além de quatro outros conjuntos de dados selecionados pelo grupo (casos_2020, casos_2021, casos_2022 e casos_2023). O objetivo é analisar os impactos da pandemia de Covid-19 no Brasil e investigar possíveis relações entre as características socioeconômicas das cidades e o nível de impacto da pandemia.\n",
        "  <p>O primeiro conjunto de dados, \"BrStats: A Socioeconomic Statistics Dataset of the Brazilian Cities\", contém informações estatísticas sobre cidades brasileiras, compiladas a partir de fontes como IBGE, IPEA e DATASUS. Entre os indicadores disponíveis, destacam-se o PIB, a população, as receitas municipais, além de dados sobre nascimentos e óbitos infantis, entre outros fatores que ajudam a compreender o desenvolvimento dessas localidades.\n",
        "  <p>Diante da pandemia global da Covid-19, que impactou todas as regiões do mundo, este estudo busca explorar como diferentes cidades brasileiras foram afetadas. Com base nos dados coletados, investigaremos se há correlação entre as características socioeconômicas das cidades e a severidade dos impactos causados pela pandemia, contribuindo para uma melhor compreensão dos fatores que influenciaram a propagação e os efeitos da doença no Brasil."
      ]
    },
    {
      "cell_type": "markdown",
      "metadata": {
        "id": "ePvhLCPNYWme"
      },
      "source": [
        "## Entendimento Inicial dos Dados\n",
        "<p>Nessa seção iremos importar os dados, buscando realizar uma primeira análise do Dataset.\n",
        "<p>Para tal, utilizaremos a biblioteca pandas e numpy"
      ]
    },
    {
      "cell_type": "code",
      "execution_count": 1,
      "metadata": {
        "id": "75EfKJ8rYw4X"
      },
      "outputs": [],
      "source": [
        "import pandas as pd\n",
        "import numpy as np"
      ]
    },
    {
      "cell_type": "markdown",
      "metadata": {
        "id": "1fDSgEKCY3xK"
      },
      "source": [
        "<p>Para a realização do próximo passo, importe o arquivo disponibilizado no Capítulo 4 do artigo \"BrStats: a socioeconomic statistics dataset of the Brazilian cities\" com o nome \"BrStats.csv\".\n",
        "<p>Devido suas características, foi preciso passar como parâmetro a separação utilizando ponto e vírgula, bem como a opção 'low_memory=False', para que o GoogleColab consiga lidar com esse grande volume de dados."
      ]
    },
    {
      "cell_type": "code",
      "execution_count": 2,
      "metadata": {
        "colab": {
          "base_uri": "https://localhost:8080/"
        },
        "id": "AfbqSkZ7Y1vH",
        "outputId": "2b89808c-0775-47ee-c5ae-1dcd9b46b0bc"
      },
      "outputs": [
        {
          "name": "stdout",
          "output_type": "stream",
          "text": [
            "Ano                              int64\n",
            "CDMunicipio                      int64\n",
            "Populacao                       object\n",
            "PessoalOcupado                  object\n",
            "PessoalAssalariado              object\n",
            "VrSalarios                      object\n",
            "PIB                             object\n",
            "QtEmpresas                     float64\n",
            "AreaPlantada_h                 float64\n",
            "AreaColhida_h                  float64\n",
            "VlProducaoAgricola             float64\n",
            "VlProducaoPecuaria             float64\n",
            "Area                            object\n",
            "Importacoes_US$                 object\n",
            "Exportacoes_US$                 object\n",
            "Receitas_R$                     object\n",
            "Transferencias_correntes_R$     object\n",
            "Transferencias_capital_R$       object\n",
            "NrNascimentos                  float64\n",
            "NrObitosInfantis               float64\n",
            "povoamento                      object\n",
            "UF                              object\n",
            "Municipio                       object\n",
            "Regiao                          object\n",
            "dtype: object\n",
            "BrStats: 33420 linhas, 24 colunas\n"
          ]
        }
      ],
      "source": [
        "df_br = pd.read_csv('BrStats.csv', sep=\";\", low_memory=False)\n",
        "print(df_br.dtypes)\n",
        "print(f\"BrStats: {df_br.shape[0]} linhas, {df_br.shape[1]} colunas\")"
      ]
    },
    {
      "cell_type": "code",
      "execution_count": 3,
      "metadata": {
        "colab": {
          "base_uri": "https://localhost:8080/"
        },
        "id": "A3CBK_kOF_3a",
        "outputId": "b11f24ea-80e1-4677-9773-043571427ad7"
      },
      "outputs": [
        {
          "name": "stdout",
          "output_type": "stream",
          "text": [
            "Index(['Area', 'Importacoes_US$', 'Exportacoes_US$', 'Receitas_R$',\n",
            "       'Transferencias_correntes_R$', 'Transferencias_capital_R$',\n",
            "       'povoamento'],\n",
            "      dtype='object')\n"
          ]
        }
      ],
      "source": [
        "colunas_com_virgula = df_br.columns[df_br.apply(lambda col: col.astype(str).str.contains(',', na=False).any())]\n",
        "\n",
        "print(colunas_com_virgula)"
      ]
    },
    {
      "cell_type": "markdown",
      "metadata": {
        "id": "cjyRCtJMb51I"
      },
      "source": [
        "Como é possível observar, algumas colunas que deveriam ser tratadas como numéricas estão como objetos. Nesse trecho a seguir fazemos o tratamento desses dados realizando a conversão para o tipo 'float' e para o tipo 'int'.\n",
        "<p>Essa mudança tem como objetivo impactar, de maneira positiva, os código futuros, permitindo que os dados sejam tratados como número e não 'strings'.\n",
        "<p>Além disso, como os dados foram coletados por atuantes brasileiros, os números como casas de milhares, dezenas de milhares, centenas de milhares e assim por diante, são separados por ponto final '.', o que é entendido como 'float' para a linguagem Python e, consequentemente, para o Pandas.\n",
        "<p>Outro problema encontrado foi os espaços em branco atrelados à falta de informação em diversos lugares e em múltiplas colunas. Esses espaços atrabaplhavam na análise e principalmente no tratamento dos dados. Por conta disso, decidimos considerar os espaços em branco como zero, convertendo o atributo 'nan' para '0'.\n",
        "<p>Para resolvermos estes problemas, separamos as colunas em três grupos, um de dados flutuantes, outra de dados inteiros e os de objetos. Para as colunas 'float', convertemos seus valores para 'string', removemos os pontos finais como separadores dos milhares, trocamos as vírgulas por pontos finais para separar as casas decimais, alteramos as células em branco para '0' e por fim, convertemos as 'strings' para 'float'. Já para as colunas 'int', convertemos novamente para 'string', removemos os pontos finais como separadores dos milhares, alteramos as células em branco para '0', e depois convertemos para 'int'."
      ]
    },
    {
      "cell_type": "code",
      "execution_count": 4,
      "metadata": {
        "colab": {
          "base_uri": "https://localhost:8080/"
        },
        "id": "Zolj4yaQabtm",
        "outputId": "51a34dcb-2853-40df-a94f-20a555453756"
      },
      "outputs": [
        {
          "name": "stdout",
          "output_type": "stream",
          "text": [
            "Ano                              int64\n",
            "CDMunicipio                      int64\n",
            "Populacao                        int64\n",
            "PessoalOcupado                   int64\n",
            "PessoalAssalariado               int64\n",
            "VrSalarios                       int64\n",
            "PIB                              int64\n",
            "QtEmpresas                       int64\n",
            "AreaPlantada_h                   int64\n",
            "AreaColhida_h                    int64\n",
            "VlProducaoAgricola               int64\n",
            "VlProducaoPecuaria               int64\n",
            "Area                           float64\n",
            "Importacoes_US$                float64\n",
            "Exportacoes_US$                float64\n",
            "Receitas_R$                    float64\n",
            "Transferencias_correntes_R$    float64\n",
            "Transferencias_capital_R$      float64\n",
            "NrNascimentos                    int64\n",
            "NrObitosInfantis                 int64\n",
            "povoamento                     float64\n",
            "UF                              object\n",
            "Municipio                       object\n",
            "Regiao                          object\n",
            "dtype: object\n",
            "BrStats: 33420 linhas, 24 colunas\n"
          ]
        }
      ],
      "source": [
        "colunas_numericas_float = ['Area', 'Importacoes_US$', 'Exportacoes_US$', 'Receitas_R$',\n",
        "                     'Transferencias_correntes_R$', 'Transferencias_capital_R$', 'povoamento']\n",
        "\n",
        "colunas_numericas_int = ['Populacao', 'PessoalOcupado', 'PessoalAssalariado', 'VrSalarios',\n",
        "                     'PIB', 'QtEmpresas','AreaPlantada_h', 'AreaColhida_h', 'VlProducaoAgricola', 'NrNascimentos',\n",
        "                         'VlProducaoPecuaria', 'NrObitosInfantis']\n",
        "\n",
        "\n",
        "\n",
        "df_br[colunas_numericas_float] = df_br[colunas_numericas_float].apply(lambda x:\n",
        "    x.astype(str).str.replace('.', '', regex=False).str.replace(',', '.', regex=False)\n",
        "    .replace('nan', None).astype(float)\n",
        ")\n",
        "\n",
        "\n",
        "df_br[colunas_numericas_int] = df_br[colunas_numericas_int].apply(lambda x:\n",
        "    x.astype(str).str.replace('.', '', regex=False).replace('nan', '0')\n",
        "    .fillna(0).astype(int)\n",
        ")\n",
        "\n",
        "\n",
        "print(df_br.dtypes)\n",
        "print(f\"BrStats: {df_br.shape[0]} linhas, {df_br.shape[1]} colunas\")"
      ]
    },
    {
      "cell_type": "markdown",
      "metadata": {
        "id": "9J4TRQyqc2xi"
      },
      "source": [
        "### Descrição do Conjunto de Dados - BrStats\n",
        "\n",
        "Ano (int64): Indica o ano de referência dos dados, armazenado como inteiro.\n",
        "\n",
        "CDMunicipio (int64): Código do município conforme a base de dados oficial, armazenado como intero.\n",
        "\n",
        "Populacao (int64): Número total de habitantes do município, armazenado como inteiro.\n",
        "\n",
        "PessoalOcupado (int64): Número total de pessoas empregadas no município, incluindo empregos formais e informais. Armazenado como inteiro.\n",
        "\n",
        "PessoalAssalariado (int64): Número total de pessoas empregadas formalmente, com vínculo empregatício e recebendo salário. Armazenado como inteiro.\n",
        "\n",
        "VrSalarios (int64): Valor total da massa salarial paga no município. Armazenado como inteiro.\n",
        "\n",
        "PIB(int64): Produto Interno Bruto do município, representando a soma de todos os bens e serviços produzidos no período. Armazenado como inteiro.\n",
        "\n",
        "QtEmpresas (int64): Quantidade total de empresas registradas no município, registrado como inteiro.\n",
        "\n",
        "AreaPlantada_h (int64): Área total plantada na agricultura, armazenado como inteiro.\n",
        "\n",
        "AreaColhida_h (int64): Área total colhida na agricultura, armazenado como inteiro.\n",
        "\n",
        "VlProducaoAgricola (int64): Valor total da produção agrícola do município, armazenado como inteiro.\n",
        "\n",
        "VlProducaoPecuaria (int64): Valor total da produção pecuária do município, armazenado como inteiro.\n",
        "\n",
        "Area (float64): Área total do município. Está armazenada como flutuante.\n",
        "\n",
        "Importacoes_US$ (float64): Valor total das importações do município em dólares americanos. Armazenado como flutuante.\n",
        "\n",
        "Exportacoes_US$ (float64): Valor total das exportações do município em dólares americanos. Armazenado como flutuante.\n",
        "\n",
        "Receitas_R$ (float64): Receita total do município em reais. Armazenado como flutuante.\n",
        "\n",
        "Transferencias_correntes_R$ (float64): Valor recebido pelo município por meio de transferências correntes. Armazenado como flutuante.\n",
        "\n",
        "Transferencias_capital_R$ (float64): Valor recebido pelo município por meio de transferências de capital. Armazenado como flutuante.\n",
        "\n",
        "NrNascimentos (int64): Número total de nascimentos registrados no município, registrado como inteiro.\n",
        "\n",
        "NrObitosInfantis (int64): Número total de óbitos infantis registrados no município, registrado como inteiro.\n",
        "\n",
        "povoamento (float64): Número de pessoas por km². Armazenado como flutuante.\n",
        "\n",
        "UF(object): Estado a que pertence o município. Armazenado como texto (sigla do estado).\n",
        "\n",
        "Municipio (object): Nome do município correspondente aos dados. Armazenado como texto.\n",
        "\n",
        "Regiao (object): Região geográfica do município . Armazenado como texto."
      ]
    },
    {
      "cell_type": "markdown",
      "metadata": {
        "id": "V7ssiKFLeiyk"
      },
      "source": [
        "## Importação dos Dados sobre a COVID-19\n",
        "\n",
        "<p>Nessa subseção faremos a importação e também compreenção dos dados que obtivemos sobre a pandemia de COVID 19 que afetou o Brasil e o mundo entre 2020 e 2023.\n",
        "<p>O primeiro caso da doença no Brasil foi registrada no dia 25 de Fevereiro de 2020, na cidade de São Paulo. Desde então, o Ministério da Saúde realizou o monitoramento diário do avanço da pandemia em terras tupiniquins.\n",
        "<p>Utilizando por base o Ministério da Saúde, o Brasil.IO e o perfil @coronavirusbra1, este levantamento realizado pelo Departamento de Física da Universidade Federal de Viçosa, liderado pelo Professor Wesley Cota, apresenta dados desde a 9ª até a 311ª semana da pandemia no Brasil.\n",
        "<p>A seguir faremos a importação desses dados, nomeados como 'casos_2020.csv', 'casos_2021.csv', 'casos_2022.csv' e 'casos_2023.csv'.\n"
      ]
    },
    {
      "cell_type": "code",
      "execution_count": 5,
      "metadata": {
        "colab": {
          "base_uri": "https://localhost:8080/"
        },
        "id": "X9vf0olzhkzN",
        "outputId": "cf1b80e9-da44-4c28-b4c9-5b0258d2a5dc"
      },
      "outputs": [
        {
          "name": "stdout",
          "output_type": "stream",
          "text": [
            "epi_week                             int64\n",
            "date                                object\n",
            "state                               object\n",
            "city                                object\n",
            "ibgeID                               int64\n",
            "newDeaths                            int64\n",
            "deaths                               int64\n",
            "newCases                             int64\n",
            "totalCases                           int64\n",
            "deaths_per_100k_inhabitants        float64\n",
            "totalCases_per_100k_inhabitants    float64\n",
            "deaths_by_totalCases               float64\n",
            "dtype: object\n",
            "Casos 2020: 1314380 linhas, 12 colunas\n"
          ]
        }
      ],
      "source": [
        "df_2020 = pd.read_csv('casos_2020.csv', low_memory=False)\n",
        "print(df_2020.dtypes)\n",
        "print(f\"Casos 2020: {df_2020.shape[0]} linhas, {df_2020.shape[1]} colunas\")"
      ]
    },
    {
      "cell_type": "code",
      "execution_count": 6,
      "metadata": {
        "colab": {
          "base_uri": "https://localhost:8080/"
        },
        "id": "rlFRNbjThpb9",
        "outputId": "2ebf178f-695d-459e-ee21-fd159cfbfe67"
      },
      "outputs": [
        {
          "name": "stdout",
          "output_type": "stream",
          "text": [
            "epi_week                             int64\n",
            "date                                object\n",
            "state                               object\n",
            "city                                object\n",
            "ibgeID                               int64\n",
            "newDeaths                            int64\n",
            "deaths                               int64\n",
            "newCases                             int64\n",
            "totalCases                           int64\n",
            "deaths_per_100k_inhabitants        float64\n",
            "totalCases_per_100k_inhabitants    float64\n",
            "deaths_by_totalCases               float64\n",
            "dtype: object\n",
            "Casos 2021: 2042733 linhas, 12 colunas\n"
          ]
        }
      ],
      "source": [
        "df_2021 = pd.read_csv('casos_2021.csv', low_memory=False)\n",
        "print(df_2021.dtypes)\n",
        "print(f\"Casos 2021: {df_2021.shape[0]} linhas, {df_2021.shape[1]} colunas\")"
      ]
    },
    {
      "cell_type": "code",
      "execution_count": 7,
      "metadata": {
        "colab": {
          "base_uri": "https://localhost:8080/"
        },
        "id": "KG7vScgzhp-N",
        "outputId": "336d978e-a3ff-47f1-8f56-d22388ef221c"
      },
      "outputs": [
        {
          "name": "stdout",
          "output_type": "stream",
          "text": [
            "epi_week                             int64\n",
            "date                                object\n",
            "state                               object\n",
            "city                                object\n",
            "ibgeID                               int64\n",
            "newDeaths                            int64\n",
            "deaths                               int64\n",
            "newCases                             int64\n",
            "totalCases                           int64\n",
            "deaths_per_100k_inhabitants        float64\n",
            "totalCases_per_100k_inhabitants    float64\n",
            "deaths_by_totalCases               float64\n",
            "dtype: object\n",
            "Casos 2022: 2042905 linhas, 12 colunas\n"
          ]
        }
      ],
      "source": [
        "df_2022 = pd.read_csv('casos_2022.csv', low_memory=False)\n",
        "print(df_2022.dtypes)\n",
        "print(f\"Casos 2022: {df_2022.shape[0]} linhas, {df_2022.shape[1]} colunas\")"
      ]
    },
    {
      "cell_type": "code",
      "execution_count": 8,
      "metadata": {
        "colab": {
          "base_uri": "https://localhost:8080/"
        },
        "id": "6Cg0mpY4hs5T",
        "outputId": "d6a612be-51ef-458c-9c30-fd81d78164cf"
      },
      "outputs": [
        {
          "name": "stdout",
          "output_type": "stream",
          "text": [
            "epi_week                             int64\n",
            "date                                object\n",
            "state                               object\n",
            "city                                object\n",
            "ibgeID                               int64\n",
            "newDeaths                            int64\n",
            "deaths                               int64\n",
            "newCases                             int64\n",
            "totalCases                           int64\n",
            "deaths_per_100k_inhabitants        float64\n",
            "totalCases_per_100k_inhabitants    float64\n",
            "deaths_by_totalCases               float64\n",
            "dtype: object\n",
            "Casos 2023: 430969 linhas, 12 colunas\n"
          ]
        }
      ],
      "source": [
        "df_2023 = pd.read_csv('casos_2023.csv', low_memory=False)\n",
        "print(df_2023.dtypes)\n",
        "print(f\"Casos 2023: {df_2023.shape[0]} linhas, {df_2023.shape[1]} colunas\")"
      ]
    },
    {
      "cell_type": "markdown",
      "metadata": {
        "id": "OC6ZfXCPnq1k"
      },
      "source": [
        "### Descrição dos Dados - casos_2020 a 2023\n",
        "\n",
        "Como é possível observar pela execução dos trechos de código que antecedem essa subseção, os códigos foram formatados como esperado, não necessitando uma conversão como para o DataSet anterior.\n",
        "\n",
        "date: Data do registro, no formato YYYY-MM-DD.\n",
        "\n",
        "country: País dos dados, que é sempre \"Brazil\".\n",
        "\n",
        "state: Sigla da unidade federativa (UF) ou \"TOTAL\" quando se refere ao país inteiro.\n",
        "\n",
        "city: Nome completo do município no formato \"Cidade/UF\". Pode ser \"CASO SEM LOCALIZACAO DEFINIDA/UF\", indicando casos na unidade federativa sem município definido.\n",
        "\n",
        "ibgeID: ID único do município fornecido pelo Instituto Brasileiro de Geografia e Estatística (IBGE).\n",
        "\n",
        "newDeaths: Diferença entre o número de óbitos da data correspondente e o dia anterior.\n",
        "\n",
        "deaths: Número acumulado de óbitos até aquela data.\n",
        "\n",
        "newCases: Diferença entre o número de casos da data correspondente e o dia anterior.\n",
        "\n",
        "totalCases: Número acumulado de casos até aquela data.\n",
        "\n",
        "deaths_per_100k_inhabitants: Número de óbitos por 100.000 habitantes naquela localidade.\n",
        "\n",
        "totalCases_per_100k_inhabitants: Número de casos por 100.000 habitantes naquela localidade.\n",
        "\n",
        "deaths_by_totalCases: Proporção entre o número de óbitos e o número total de casos."
      ]
    },
    {
      "cell_type": "markdown",
      "metadata": {
        "id": "YPtN7drVoOfE"
      },
      "source": [
        "### Verificação de Valores Nulos\n",
        "\n",
        "<p>Nessa etapa faremos um levantamento da existência ou não de valores nulos nos conjuntos de dados que utilizaremos.\n",
        "<p>Com base no resultado que obtivermos aqui iremos determinar qual ação deve ser tomada para cada característica que eventualmente possa estar nula, caso seja de interesse do grupo utilizá-la."
      ]
    },
    {
      "cell_type": "code",
      "execution_count": 9,
      "metadata": {
        "colab": {
          "base_uri": "https://localhost:8080/"
        },
        "id": "0GaLrgjupNf-",
        "outputId": "e7ebeda8-bcd8-43c6-be07-68296c8f06de"
      },
      "outputs": [
        {
          "name": "stdout",
          "output_type": "stream",
          "text": [
            "BrStats:\n",
            " Ano                                0\n",
            "CDMunicipio                        0\n",
            "Populacao                          0\n",
            "PessoalOcupado                     0\n",
            "PessoalAssalariado                 0\n",
            "VrSalarios                         0\n",
            "PIB                                0\n",
            "QtEmpresas                         0\n",
            "AreaPlantada_h                     0\n",
            "AreaColhida_h                      0\n",
            "VlProducaoAgricola                 0\n",
            "VlProducaoPecuaria                 0\n",
            "Area                              30\n",
            "Importacoes_US$                20375\n",
            "Exportacoes_US$                21392\n",
            "Receitas_R$                    11173\n",
            "Transferencias_correntes_R$      243\n",
            "Transferencias_capital_R$        243\n",
            "NrNascimentos                      0\n",
            "NrObitosInfantis                   0\n",
            "povoamento                        30\n",
            "UF                                 0\n",
            "Municipio                          0\n",
            "Regiao                             0\n",
            "dtype: int64\n",
            "Casos 2020:\n",
            " epi_week                           0\n",
            "date                               0\n",
            "state                              0\n",
            "city                               0\n",
            "ibgeID                             0\n",
            "newDeaths                          0\n",
            "deaths                             0\n",
            "newCases                           0\n",
            "totalCases                         0\n",
            "deaths_per_100k_inhabitants        0\n",
            "totalCases_per_100k_inhabitants    0\n",
            "deaths_by_totalCases               0\n",
            "dtype: int64\n",
            "Casos 2021:\n",
            " epi_week                           0\n",
            "date                               0\n",
            "state                              0\n",
            "city                               0\n",
            "ibgeID                             0\n",
            "newDeaths                          0\n",
            "deaths                             0\n",
            "newCases                           0\n",
            "totalCases                         0\n",
            "deaths_per_100k_inhabitants        0\n",
            "totalCases_per_100k_inhabitants    0\n",
            "deaths_by_totalCases               0\n",
            "dtype: int64\n",
            "Casos 2022:\n",
            " epi_week                           0\n",
            "date                               0\n",
            "state                              0\n",
            "city                               0\n",
            "ibgeID                             0\n",
            "newDeaths                          0\n",
            "deaths                             0\n",
            "newCases                           0\n",
            "totalCases                         0\n",
            "deaths_per_100k_inhabitants        0\n",
            "totalCases_per_100k_inhabitants    0\n",
            "deaths_by_totalCases               0\n",
            "dtype: int64\n",
            "Casos 2023:\n",
            " epi_week                           0\n",
            "date                               0\n",
            "state                              0\n",
            "city                               0\n",
            "ibgeID                             0\n",
            "newDeaths                          0\n",
            "deaths                             0\n",
            "newCases                           0\n",
            "totalCases                         0\n",
            "deaths_per_100k_inhabitants        0\n",
            "totalCases_per_100k_inhabitants    0\n",
            "deaths_by_totalCases               0\n",
            "dtype: int64\n"
          ]
        }
      ],
      "source": [
        "print('BrStats:\\n', df_br.isnull().sum())\n",
        "print('Casos 2020:\\n', df_2020.isnull().sum())\n",
        "print('Casos 2021:\\n', df_2021.isnull().sum())\n",
        "print('Casos 2022:\\n', df_2022.isnull().sum())\n",
        "print('Casos 2023:\\n', df_2023.isnull().sum())"
      ]
    },
    {
      "cell_type": "markdown",
      "metadata": {
        "id": "w94WqC-gqhNw"
      },
      "source": [
        "### Criação de Novos Conjuntos de Dados\n",
        "\n",
        "<p>Visando ter apenas os valores totais da pandemia para cada ano, realizamos uma limpeza dos dados, criando novos conjuntos de dados com estes.\n",
        "<p>Esses novos DataSets serão utilizados nas análises ao longo do projeto.\n",
        "<p>Como os dados são cumulativos, o código obtém o maior número relacionado a cada cidade e, em sequência, cria o conjunto 'df_ano_max.csv'."
      ]
    },
    {
      "cell_type": "code",
      "execution_count": 10,
      "metadata": {
        "id": "aN3kUQvQrZ1-"
      },
      "outputs": [],
      "source": [
        "#filtragem das cidades não nulas\n",
        "df_2020 = df_2020[df_2020['city'].notna()]\n",
        "df_2021 = df_2021[df_2021['city'].notna()]\n",
        "df_2022 = df_2022[df_2022['city'].notna()]\n",
        "df_2023 = df_2023[df_2023['city'].notna()]\n",
        "\n",
        "df_2020_max = df_2020.groupby('city')[['deaths', 'totalCases', 'deaths_by_totalCases']].max().reset_index()\n",
        "df_2021_max = df_2021.groupby('city')[['deaths', 'totalCases', 'deaths_by_totalCases']].max().reset_index()\n",
        "df_2022_max = df_2022.groupby('city')[['deaths', 'totalCases', 'deaths_by_totalCases']].max().reset_index()\n",
        "df_2023_max = df_2023.groupby('city')[['deaths', 'totalCases', 'deaths_by_totalCases']].max().reset_index()\n",
        "\n",
        "df_2020_max.to_csv('df_2020_max.csv', index=False)\n",
        "df_2021_max.to_csv('df_2021_max.csv', index=False)\n",
        "df_2022_max.to_csv('df_2022_max.csv', index=False)\n",
        "df_2023_max.to_csv('df_2023_max.csv', index=False)"
      ]
    },
    {
      "cell_type": "markdown",
      "metadata": {
        "id": "bLWv_Cwgsd1n"
      },
      "source": [
        "## Perguntas\n",
        "\n",
        "<p>Nessa seção apresentaremos algumas perguntas que foram elaboradas pelo grupo e serão analisadas no decorrer do Projeto.\n",
        "<p>Como explicitado na introdução, muitas dessas perguntas tentarão responder e encontrar uma correlação entre as características das cidades e o impacto que a pandemia de COVID-19 gerou nestas.\n",
        "<p>Além das perguntas voltadas a esta temática, algumas outras serão apresentadas, que representam mais algumas curiosidades dos integrantes do grupo, como algumas envolvendo as cidades-natal destes (Caratinga, Itaúna, Pará de Minas e Ubá, todas de Minas Gerais).\n",
        "\n",
        "\n",
        "1.   Qual cidade teve o maior número bruto de óbitos infantis e qual teve o maior crescimento populacional negativo infantil ,razão óbito/natalidade infantil ,durante a pandemia (2020-2021)?\n",
        "\n",
        "2.   Qual a diferença do número total de empresas entre o período pré-pandemia (2016 e 2019) e durante a pandemia (2020 e 2021)? O que podemos concluir com esses dados?\n",
        "\n",
        "3.   Qual a soma total do maior valor de produção agrícola de cada cidade entre os anos de 2016 e 2019 e qual é o valor dessa mesma soma entre os anos de 2020 e 2021 (Período pandêmico)?\n",
        "\n",
        "4.   Quais cidades tiveram a pior eficiência agrícola ,relação entre área plantada e colhida, durante a pandemia (2020-2021) e como isso se compara ao período pré-pandemia (2016-2019)?\n",
        "\n",
        "5.   Considerando as 10 cidades com maior produção pecuária entre os anos de 2016 e 2019 (Pré-pandemia), qual a diferença nessa produção para as mesmas cidades no período de 2020 e 2021(Pandemia)?\n",
        "\n",
        "6.   Qual foi o impacto da pandemia no PIB dos municípios em 2020?\n",
        "\n",
        "7.   Qual o impacto das receitas municipais na qualidade de vida? Podem ser encontradas relações entre receitas e taxa de mortalidade infantil?\n",
        "\n",
        "8.   Municípios com maior área plantada e área colhida geram maior Valor da produção agrícola?\n",
        "\n",
        "9.   Municípios que mais exportam são os mais desenvolvidos economicamente?\n",
        "\n",
        "10.   Qual foi o impacto da pandemia nas exportações e importações por região?\n",
        "\n",
        "11.   Qual foi o maior e o menor valor de PIB, importações e exportações nas cidades de Caratinga, Itaúna, Pará de Minas e Ubá durante a pandemia (2020-2021)?\n",
        "\n",
        "12.   Qual o resultado do dado 'death_by_totalCases' nas cidades-natal dos Integrantes do grupo? Isso pode ser relacionado ao PIB visto na pergunta anterior?\n",
        "\n",
        "13.   Levando em consideração a população dessas cidades-natal através do conjunto BrStats, qual a porcentagem da população foi infectada por COVID em cada ano?\n",
        "\n",
        "14.   Qual a quantidade de mortos pela pandemia nas 10 cidades de maior PIB? E nas 10 cidades com o menor PIB? Isso tem relação?\n",
        "\n",
        "\n",
        "\n"
      ]
    },
    {
      "cell_type": "markdown",
      "metadata": {
        "id": "SF_5Pj0xwd4n"
      },
      "source": [
        "## Responsabilidades de Cada Integrante Nessa Etapa\n",
        "\n",
        "\n",
        "\n",
        "*   Henrique Alves Campos\n",
        "**  Perguntas e Código das Perguntas\n",
        "\n",
        "*   Marcos Biscotto de Oliveira\n",
        "**  Perguntas, Análise Inicial e Código das Perguntas\n",
        "\n",
        "*   Matheus Nascimento Peixoto\n",
        "**  Obtenção dos Conjuntos de Dados, Análise Inicial, algumas perguntas e Organização do Documento e GitHub\n",
        "\n",
        "*   Matheus Nogueira Moreira\n",
        "**  Perguntas e Código das Perguntas\n"
      ]
    }
  ],
  "metadata": {
    "colab": {
      "provenance": []
    },
    "kernelspec": {
      "display_name": "Python 3",
      "name": "python3"
    },
    "language_info": {
      "name": "python"
    }
  },
  "nbformat": 4,
  "nbformat_minor": 0
}

{
  "nbformat": 4,
  "nbformat_minor": 0,
  "metadata": {
    "colab": {
      "provenance": [],
      "include_colab_link": true
    },
    "kernelspec": {
      "name": "python3",
      "display_name": "Python 3"
    },
    "language_info": {
      "name": "python"
    }
  },
  "cells": [
    {
      "cell_type": "markdown",
      "metadata": {
        "id": "view-in-github",
        "colab_type": "text"
      },
      "source": [
        "<a href=\"https://colab.research.google.com/github/MatheusPxt21/Projeto-CCF425/blob/main/Projeto_de_CCF_425_INTRODU%C3%87%C3%83O_%C3%80_CI%C3%8ANCIA_DOS_DADOS.ipynb\" target=\"_parent\"><img src=\"https://colab.research.google.com/assets/colab-badge.svg\" alt=\"Open In Colab\"/></a>"
      ]
    },
    {
      "cell_type": "markdown",
      "source": [
        "**Projeto de CCF 425 - INTRODUÇÃO À CIÊNCIA DOS DADOS**"
      ],
      "metadata": {
        "id": "901pkIHK8T9R"
      }
    },
    {
      "cell_type": "code",
      "execution_count": null,
      "metadata": {
        "id": "d0PgP2r78TI8"
      },
      "outputs": [],
      "source": [
        "import pandas as pd"
      ]
    },
    {
      "cell_type": "code",
      "source": [
        "df = pd.read_csv('BrStats.csv', sep=\";\", low_memory=False)\n"
      ],
      "metadata": {
        "id": "sggJB18G8lQN"
      },
      "execution_count": null,
      "outputs": []
    },
    {
      "cell_type": "markdown",
      "source": [
        "VrSalarios por Regiao do Brasil"
      ],
      "metadata": {
        "id": "Oip726JKGHXJ"
      }
    },
    {
      "cell_type": "code",
      "source": [
        "coluna_salarios = 'VrSalarios'\n",
        "coluna_populacao = 'Populacao'\n",
        "\n",
        "df[coluna_salarios] = pd.to_numeric(df[coluna_salarios], errors='coerce')\n",
        "df[coluna_populacao] = pd.to_numeric(df[coluna_populacao], errors='coerce')\n",
        "\n",
        "df['MediaSalarialCidade'] = df[coluna_salarios] / df[coluna_populacao]\n",
        "\n",
        "media_salarial_por_regiao = df.groupby('Regiao')['MediaSalarialCidade'].mean()\n",
        "\n",
        "# Exibir os resultados\n",
        "print(media_salarial_por_regiao)\n"
      ],
      "metadata": {
        "colab": {
          "base_uri": "https://localhost:8080/"
        },
        "id": "PLSZRZxYG7fO",
        "outputId": "9e23f487-8b26-440b-a28c-67c461a8a991"
      },
      "execution_count": null,
      "outputs": [
        {
          "output_type": "stream",
          "name": "stdout",
          "text": [
            "Regiao\n",
            "Centro-Oeste    3.368202\n",
            "Nordeste        1.651562\n",
            "Norte           1.871603\n",
            "Sudeste         3.590985\n",
            "Sul             4.628571\n",
            "Name: MediaSalarialCidade, dtype: float64\n"
          ]
        }
      ]
    },
    {
      "cell_type": "code",
      "source": [
        "# Encontrar a cidade com o menor VrSalarios\n",
        "cidade_menor_salario = df.loc[df['VrSalarios'].idxmin(), ['Municipio', 'VrSalarios', 'Regiao', 'UF', 'Populacao', 'povoamento', 'PessoalAssalariado']]\n",
        "\n",
        "# Exibir o resultado\n",
        "print(cidade_menor_salario)"
      ],
      "metadata": {
        "colab": {
          "base_uri": "https://localhost:8080/",
          "height": 391
        },
        "id": "SPP5mOXhHxl4",
        "outputId": "fb41a871-ea1e-4cbf-d3c6-50d7911bf206"
      },
      "execution_count": null,
      "outputs": [
        {
          "output_type": "error",
          "ename": "TypeError",
          "evalue": "'<' not supported between instances of 'float' and 'str'",
          "traceback": [
            "\u001b[0;31m---------------------------------------------------------------------------\u001b[0m",
            "\u001b[0;31mTypeError\u001b[0m                                 Traceback (most recent call last)",
            "\u001b[0;32m<ipython-input-23-184341bfe80f>\u001b[0m in \u001b[0;36m<cell line: 0>\u001b[0;34m()\u001b[0m\n\u001b[1;32m      1\u001b[0m \u001b[0;31m# Encontrar a cidade com o menor VrSalarios\u001b[0m\u001b[0;34m\u001b[0m\u001b[0;34m\u001b[0m\u001b[0m\n\u001b[0;32m----> 2\u001b[0;31m \u001b[0mcidade_menor_salario\u001b[0m \u001b[0;34m=\u001b[0m \u001b[0mdf\u001b[0m\u001b[0;34m.\u001b[0m\u001b[0mloc\u001b[0m\u001b[0;34m[\u001b[0m\u001b[0mdf\u001b[0m\u001b[0;34m[\u001b[0m\u001b[0;34m'VrSalarios'\u001b[0m\u001b[0;34m]\u001b[0m\u001b[0;34m.\u001b[0m\u001b[0midxmin\u001b[0m\u001b[0;34m(\u001b[0m\u001b[0;34m)\u001b[0m\u001b[0;34m,\u001b[0m \u001b[0;34m[\u001b[0m\u001b[0;34m'Municipio'\u001b[0m\u001b[0;34m,\u001b[0m \u001b[0;34m'VrSalarios'\u001b[0m\u001b[0;34m,\u001b[0m \u001b[0;34m'Regiao'\u001b[0m\u001b[0;34m,\u001b[0m \u001b[0;34m'UF'\u001b[0m\u001b[0;34m,\u001b[0m \u001b[0;34m'Populacao'\u001b[0m\u001b[0;34m,\u001b[0m \u001b[0;34m'povoamento'\u001b[0m\u001b[0;34m,\u001b[0m \u001b[0;34m'PessoalAssalariado'\u001b[0m\u001b[0;34m]\u001b[0m\u001b[0;34m]\u001b[0m\u001b[0;34m\u001b[0m\u001b[0;34m\u001b[0m\u001b[0m\n\u001b[0m\u001b[1;32m      3\u001b[0m \u001b[0;34m\u001b[0m\u001b[0m\n\u001b[1;32m      4\u001b[0m \u001b[0;31m# Exibir o resultado\u001b[0m\u001b[0;34m\u001b[0m\u001b[0;34m\u001b[0m\u001b[0m\n\u001b[1;32m      5\u001b[0m \u001b[0mprint\u001b[0m\u001b[0;34m(\u001b[0m\u001b[0mcidade_menor_salario\u001b[0m\u001b[0;34m)\u001b[0m\u001b[0;34m\u001b[0m\u001b[0;34m\u001b[0m\u001b[0m\n",
            "\u001b[0;32m/usr/local/lib/python3.11/dist-packages/pandas/core/series.py\u001b[0m in \u001b[0;36midxmin\u001b[0;34m(self, axis, skipna, *args, **kwargs)\u001b[0m\n\u001b[1;32m   2675\u001b[0m             \u001b[0;31m#  warning for idxmin\u001b[0m\u001b[0;34m\u001b[0m\u001b[0;34m\u001b[0m\u001b[0m\n\u001b[1;32m   2676\u001b[0m             \u001b[0mwarnings\u001b[0m\u001b[0;34m.\u001b[0m\u001b[0msimplefilter\u001b[0m\u001b[0;34m(\u001b[0m\u001b[0;34m\"ignore\"\u001b[0m\u001b[0;34m)\u001b[0m\u001b[0;34m\u001b[0m\u001b[0;34m\u001b[0m\u001b[0m\n\u001b[0;32m-> 2677\u001b[0;31m             \u001b[0mi\u001b[0m \u001b[0;34m=\u001b[0m \u001b[0mself\u001b[0m\u001b[0;34m.\u001b[0m\u001b[0margmin\u001b[0m\u001b[0;34m(\u001b[0m\u001b[0maxis\u001b[0m\u001b[0;34m,\u001b[0m \u001b[0mskipna\u001b[0m\u001b[0;34m,\u001b[0m \u001b[0;34m*\u001b[0m\u001b[0margs\u001b[0m\u001b[0;34m,\u001b[0m \u001b[0;34m**\u001b[0m\u001b[0mkwargs\u001b[0m\u001b[0;34m)\u001b[0m\u001b[0;34m\u001b[0m\u001b[0;34m\u001b[0m\u001b[0m\n\u001b[0m\u001b[1;32m   2678\u001b[0m \u001b[0;34m\u001b[0m\u001b[0m\n\u001b[1;32m   2679\u001b[0m         \u001b[0;32mif\u001b[0m \u001b[0mi\u001b[0m \u001b[0;34m==\u001b[0m \u001b[0;34m-\u001b[0m\u001b[0;36m1\u001b[0m\u001b[0;34m:\u001b[0m\u001b[0;34m\u001b[0m\u001b[0;34m\u001b[0m\u001b[0m\n",
            "\u001b[0;32m/usr/local/lib/python3.11/dist-packages/pandas/core/base.py\u001b[0m in \u001b[0;36margmin\u001b[0;34m(self, axis, skipna, *args, **kwargs)\u001b[0m\n\u001b[1;32m    783\u001b[0m                 \u001b[0;32mreturn\u001b[0m \u001b[0mdelegate\u001b[0m\u001b[0;34m.\u001b[0m\u001b[0margmin\u001b[0m\u001b[0;34m(\u001b[0m\u001b[0;34m)\u001b[0m\u001b[0;34m\u001b[0m\u001b[0;34m\u001b[0m\u001b[0m\n\u001b[1;32m    784\u001b[0m         \u001b[0;32melse\u001b[0m\u001b[0;34m:\u001b[0m\u001b[0;34m\u001b[0m\u001b[0;34m\u001b[0m\u001b[0m\n\u001b[0;32m--> 785\u001b[0;31m             \u001b[0mresult\u001b[0m \u001b[0;34m=\u001b[0m \u001b[0mnanops\u001b[0m\u001b[0;34m.\u001b[0m\u001b[0mnanargmin\u001b[0m\u001b[0;34m(\u001b[0m\u001b[0mdelegate\u001b[0m\u001b[0;34m,\u001b[0m \u001b[0mskipna\u001b[0m\u001b[0;34m=\u001b[0m\u001b[0mskipna\u001b[0m\u001b[0;34m)\u001b[0m\u001b[0;34m\u001b[0m\u001b[0;34m\u001b[0m\u001b[0m\n\u001b[0m\u001b[1;32m    786\u001b[0m             \u001b[0;32mif\u001b[0m \u001b[0mresult\u001b[0m \u001b[0;34m==\u001b[0m \u001b[0;34m-\u001b[0m\u001b[0;36m1\u001b[0m\u001b[0;34m:\u001b[0m\u001b[0;34m\u001b[0m\u001b[0;34m\u001b[0m\u001b[0m\n\u001b[1;32m    787\u001b[0m                 warnings.warn(\n",
            "\u001b[0;32m/usr/local/lib/python3.11/dist-packages/pandas/core/nanops.py\u001b[0m in \u001b[0;36mnanargmin\u001b[0;34m(values, axis, skipna, mask)\u001b[0m\n\u001b[1;32m   1192\u001b[0m     \"\"\"\n\u001b[1;32m   1193\u001b[0m     \u001b[0mvalues\u001b[0m\u001b[0;34m,\u001b[0m \u001b[0mmask\u001b[0m \u001b[0;34m=\u001b[0m \u001b[0m_get_values\u001b[0m\u001b[0;34m(\u001b[0m\u001b[0mvalues\u001b[0m\u001b[0;34m,\u001b[0m \u001b[0;32mTrue\u001b[0m\u001b[0;34m,\u001b[0m \u001b[0mfill_value_typ\u001b[0m\u001b[0;34m=\u001b[0m\u001b[0;34m\"+inf\"\u001b[0m\u001b[0;34m,\u001b[0m \u001b[0mmask\u001b[0m\u001b[0;34m=\u001b[0m\u001b[0mmask\u001b[0m\u001b[0;34m)\u001b[0m\u001b[0;34m\u001b[0m\u001b[0;34m\u001b[0m\u001b[0m\n\u001b[0;32m-> 1194\u001b[0;31m     \u001b[0mresult\u001b[0m \u001b[0;34m=\u001b[0m \u001b[0mvalues\u001b[0m\u001b[0;34m.\u001b[0m\u001b[0margmin\u001b[0m\u001b[0;34m(\u001b[0m\u001b[0maxis\u001b[0m\u001b[0;34m)\u001b[0m\u001b[0;34m\u001b[0m\u001b[0;34m\u001b[0m\u001b[0m\n\u001b[0m\u001b[1;32m   1195\u001b[0m     \u001b[0;31m# error: Argument 1 to \"_maybe_arg_null_out\" has incompatible type \"Any |\u001b[0m\u001b[0;34m\u001b[0m\u001b[0;34m\u001b[0m\u001b[0m\n\u001b[1;32m   1196\u001b[0m     \u001b[0;31m# signedinteger[Any]\"; expected \"ndarray[Any, Any]\"\u001b[0m\u001b[0;34m\u001b[0m\u001b[0;34m\u001b[0m\u001b[0m\n",
            "\u001b[0;31mTypeError\u001b[0m: '<' not supported between instances of 'float' and 'str'"
          ]
        }
      ]
    },
    {
      "cell_type": "code",
      "source": [
        "# Encontrar"
      ],
      "metadata": {
        "id": "hZb6NKEDIeRZ"
      },
      "execution_count": null,
      "outputs": []
    },
    {
      "cell_type": "code",
      "source": [
        "#Existe relação entre o número de nascimentos/mortes com o PIB da região?\n",
        "\n",
        "for col in ['NrNascimentos', 'NrObitosInfantis', 'PIB']:\n",
        "    df[col] = pd.to_numeric(df[col], errors='coerce')\n",
        "\n",
        "correlacao = df.groupby('Regiao')[['NrNascimentos', 'NrObitosInfantis', 'PIB']].sum().corr()\n",
        "print(correlacao)"
      ],
      "metadata": {
        "colab": {
          "base_uri": "https://localhost:8080/"
        },
        "id": "R4LW9G1_LR74",
        "outputId": "6f500cfb-0a5e-41c6-9d78-a2d7184df47a"
      },
      "execution_count": null,
      "outputs": [
        {
          "output_type": "stream",
          "name": "stdout",
          "text": [
            "                  NrNascimentos  NrObitosInfantis       PIB\n",
            "NrNascimentos          1.000000          0.920779  0.859121\n",
            "NrObitosInfantis       0.920779          1.000000  0.775176\n",
            "PIB                    0.859121          0.775176  1.000000\n"
          ]
        }
      ]
    },
    {
      "cell_type": "code",
      "source": [
        "#Relação entre a área de cultivo com a área povoada\n",
        "\n",
        "for col in ['povoamento', 'AreaPlantada_h', 'AreaColhida_h']:\n",
        "    # Check if the column is of type object (which usually indicates strings) before using .str\n",
        "    if df[col].dtype == object:\n",
        "        df[col] = pd.to_numeric(df[col].str.replace(',', '.', regex=False), errors='coerce')\n",
        "    else:\n",
        "        # If not an object type, try converting directly to numeric\n",
        "        df[col] = pd.to_numeric(df[col], errors='coerce')\n",
        "\n",
        "correlacao = df[['povoamento', 'AreaPlantada_h', 'AreaColhida_h']].corr()\n",
        "print(correlacao)"
      ],
      "metadata": {
        "colab": {
          "base_uri": "https://localhost:8080/"
        },
        "id": "t4ek_Q0mLyL9",
        "outputId": "d17d6661-5cd0-4202-dfc7-5dc9bf767a7d"
      },
      "execution_count": null,
      "outputs": [
        {
          "output_type": "stream",
          "name": "stdout",
          "text": [
            "                povoamento  AreaPlantada_h  AreaColhida_h\n",
            "povoamento        1.000000       -0.054051      -0.053670\n",
            "AreaPlantada_h   -0.054051        1.000000       0.940183\n",
            "AreaColhida_h    -0.053670        0.940183       1.000000\n"
          ]
        }
      ]
    },
    {
      "cell_type": "code",
      "source": [
        "#Média populacional das cidades do grupo comparadas com a capital\n",
        "\n",
        "cidades_grupo = ['Caratinga', 'Pará de Minas', 'Itaúna', 'Ubá']\n",
        "df_cidades = df[df['Municipio'].isin(cidades_grupo)]\n",
        "\n",
        "df_cidades['Populacao'] = pd.to_numeric(df_cidades['Populacao'].str.replace('.', '', regex=False).str.replace(',', '.', regex=False), errors='coerce')\n",
        "\n",
        "media_grupo = df_cidades['Populacao'].mean()\n",
        "\n",
        "capital = df[df['Municipio'] == 'Belo Horizonte']\n",
        "populacao_capital = capital['Populacao'].values[0]\n",
        "\n",
        "print(f\"Média populacional do grupo: {media_grupo}\")\n",
        "print(f\"População da capital: {populacao_capital}\")"
      ],
      "metadata": {
        "colab": {
          "base_uri": "https://localhost:8080/"
        },
        "id": "0lu2HAtbME7O",
        "outputId": "596283d6-5359-4b9f-9793-4fd5e59adb71"
      },
      "execution_count": null,
      "outputs": [
        {
          "output_type": "stream",
          "name": "stdout",
          "text": [
            "Média populacional do grupo: 98484.83333333333\n",
            "População da capital: 2.513.451\n"
          ]
        },
        {
          "output_type": "stream",
          "name": "stderr",
          "text": [
            "<ipython-input-13-9f191a3b028d>:6: SettingWithCopyWarning: \n",
            "A value is trying to be set on a copy of a slice from a DataFrame.\n",
            "Try using .loc[row_indexer,col_indexer] = value instead\n",
            "\n",
            "See the caveats in the documentation: https://pandas.pydata.org/pandas-docs/stable/user_guide/indexing.html#returning-a-view-versus-a-copy\n",
            "  df_cidades['Populacao'] = pd.to_numeric(df_cidades['Populacao'].str.replace('.', '', regex=False).str.replace(',', '.', regex=False), errors='coerce')\n"
          ]
        }
      ]
    },
    {
      "cell_type": "code",
      "source": [
        "#Comparação entre as regiões com mais empresas X áreas plantadas -> PIB\n",
        "\n",
        "df['Razao_Empresas_AreaPlantada'] = df['QtEmpresas'] / df['AreaPlantada_h']\n",
        "comparacao = df.groupby('Regiao')[['QtEmpresas', 'AreaPlantada_h', 'PIB']].mean()\n",
        "print(comparacao)"
      ],
      "metadata": {
        "colab": {
          "base_uri": "https://localhost:8080/"
        },
        "id": "f97FLCVGMXs2",
        "outputId": "0b069bc8-838a-4345-90b9-96baa046f0a7"
      },
      "execution_count": null,
      "outputs": [
        {
          "output_type": "stream",
          "name": "stdout",
          "text": [
            "              QtEmpresas  AreaPlantada_h         PIB\n",
            "Regiao                                              \n",
            "Centro-Oeste  207.485575      102.244417  296.049921\n",
            "Nordeste      151.965094       11.761334  184.400428\n",
            "Norte         137.227086       19.574777  250.746170\n",
            "Sudeste       203.939917       20.556859  232.431510\n",
            "Sul           206.812010       34.304012  260.693577\n"
          ]
        }
      ]
    },
    {
      "cell_type": "code",
      "source": [
        "#Balanço Comercial por município/região\n",
        "\n",
        "df['Exportacoes_US$'] = pd.to_numeric(df['Exportacoes_US$'].str.replace(',', '.', regex=False), errors='coerce')\n",
        "df['Importacoes_US$'] = pd.to_numeric(df['Importacoes_US$'].str.replace(',', '.', regex=False), errors='coerce')\n",
        "\n",
        "df['BalancoComercial'] = df['Exportacoes_US$'] - df['Importacoes_US$']\n",
        "balanco_por_regiao = df.groupby('Regiao')['BalancoComercial'].sum()\n",
        "print(balanco_por_regiao)\n"
      ],
      "metadata": {
        "colab": {
          "base_uri": "https://localhost:8080/"
        },
        "id": "DHme0lYkMkoe",
        "outputId": "757ca3db-efbe-43bd-aedd-7c766edd068d"
      },
      "execution_count": null,
      "outputs": [
        {
          "output_type": "stream",
          "name": "stdout",
          "text": [
            "Regiao\n",
            "Centro-Oeste   -138.0\n",
            "Nordeste       -552.0\n",
            "Norte             0.0\n",
            "Sudeste           0.0\n",
            "Sul               0.0\n",
            "Name: BalancoComercial, dtype: float64\n"
          ]
        }
      ]
    },
    {
      "cell_type": "code",
      "source": [
        "#Número de óbitos infantis antes e durante a pandemia\n",
        "\n",
        "antes_pandemia_obitos = df[df['Ano'] <= 2019]['NrObitosInfantis'].sum()\n",
        "depois_pandemia_obitos = df[df['Ano'] >= 2020]['NrObitosInfantis'].sum()\n",
        "\n",
        "print(f\"Óbitos antes da pandemia: {antes_pandemia_obitos}\")\n",
        "print(f\"Óbitos depois da pandemia: {depois_pandemia_obitos}\")"
      ],
      "metadata": {
        "colab": {
          "base_uri": "https://localhost:8080/"
        },
        "id": "fQA_YIJoMytr",
        "outputId": "e2f6a563-12d4-4989-e8f8-047a408bbee4"
      },
      "execution_count": null,
      "outputs": [
        {
          "output_type": "stream",
          "name": "stdout",
          "text": [
            "Óbitos antes da pandemia: 135178.45799999998\n",
            "Óbitos depois da pandemia: 60334.925\n"
          ]
        }
      ]
    },
    {
      "cell_type": "code",
      "source": [
        "#Número de nascimentos antes e depois da pandemia\n",
        "\n",
        "antes_pandemia = df[df['Ano'] <= 2019]['NrNascimentos'].sum()\n",
        "depois_pandemia = df[df['Ano'] >= 2020]['NrNascimentos'].sum()\n",
        "\n",
        "print(f\"Nascimentos antes da pandemia: {antes_pandemia}\")\n",
        "print(f\"Nascimentos depois da pandemia: {depois_pandemia}\")"
      ],
      "metadata": {
        "colab": {
          "base_uri": "https://localhost:8080/"
        },
        "id": "NDybMRB7M6wl",
        "outputId": "472c8f0c-40a5-4a1f-e26c-e7ddba30193d"
      },
      "execution_count": null,
      "outputs": [
        {
          "output_type": "stream",
          "name": "stdout",
          "text": [
            "Nascimentos antes da pandemia: 4119220.278\n",
            "Nascimentos depois da pandemia: 2028557.8820000002\n"
          ]
        }
      ]
    },
    {
      "cell_type": "code",
      "source": [
        "#Número de empresas que fecharam de 2019 para 2020\n",
        "\n",
        "df_2019 = df[df['Ano'] == 2019]\n",
        "df_2020 = df[df['Ano'] == 2020]\n",
        "\n",
        "empresas_fechadas = df_2019['QtEmpresas'].sum() - df_2020['QtEmpresas'].sum()\n",
        "print(f\"Número de empresas que fecharam: {empresas_fechadas}\")\n"
      ],
      "metadata": {
        "colab": {
          "base_uri": "https://localhost:8080/"
        },
        "id": "OZRBUXvmM_ZL",
        "outputId": "96447f2a-be9f-494c-f630-9a447c9277de"
      },
      "execution_count": null,
      "outputs": [
        {
          "output_type": "stream",
          "name": "stdout",
          "text": [
            "Número de empresas que fecharam: -15602.34600000002\n"
          ]
        }
      ]
    },
    {
      "cell_type": "code",
      "source": [
        "#Quantas pessoas deixaram de ser CLT de 2019 para 2020?\n",
        "\n",
        "df_2019 = df[df['Ano'] == 2019]\n",
        "df_2020 = df[df['Ano'] == 2020]\n",
        "\n",
        "# Convert 'PessoalAssalariado' to numeric, handling errors\n",
        "df_2019['PessoalAssalariado'] = pd.to_numeric(df_2019['PessoalAssalariado'], errors='coerce')\n",
        "df_2020['PessoalAssalariado'] = pd.to_numeric(df_2020['PessoalAssalariado'], errors='coerce')\n",
        "\n",
        "clt_perdidos = df_2019['PessoalAssalariado'].sum() - df_2020['PessoalAssalariado'].sum()\n",
        "print(f\"Pessoas que deixaram de ser CLT: {clt_perdidos}\")"
      ],
      "metadata": {
        "colab": {
          "base_uri": "https://localhost:8080/"
        },
        "id": "pfboCZD7NMiL",
        "outputId": "162859a7-1330-4723-be65-c2d78e694fd3"
      },
      "execution_count": null,
      "outputs": [
        {
          "output_type": "stream",
          "name": "stdout",
          "text": [
            "Pessoas que deixaram de ser CLT: 36150.53900000034\n"
          ]
        },
        {
          "output_type": "stream",
          "name": "stderr",
          "text": [
            "<ipython-input-22-e068ba871f1b>:7: SettingWithCopyWarning: \n",
            "A value is trying to be set on a copy of a slice from a DataFrame.\n",
            "Try using .loc[row_indexer,col_indexer] = value instead\n",
            "\n",
            "See the caveats in the documentation: https://pandas.pydata.org/pandas-docs/stable/user_guide/indexing.html#returning-a-view-versus-a-copy\n",
            "  df_2019['PessoalAssalariado'] = pd.to_numeric(df_2019['PessoalAssalariado'], errors='coerce')\n",
            "<ipython-input-22-e068ba871f1b>:8: SettingWithCopyWarning: \n",
            "A value is trying to be set on a copy of a slice from a DataFrame.\n",
            "Try using .loc[row_indexer,col_indexer] = value instead\n",
            "\n",
            "See the caveats in the documentation: https://pandas.pydata.org/pandas-docs/stable/user_guide/indexing.html#returning-a-view-versus-a-copy\n",
            "  df_2020['PessoalAssalariado'] = pd.to_numeric(df_2020['PessoalAssalariado'], errors='coerce')\n"
          ]
        }
      ]
    },
    {
      "cell_type": "code",
      "source": [
        "#Taxa de Desemprego\n",
        "\n",
        "df['PessoalOcupado'] = pd.to_numeric(df['PessoalOcupado'], errors='coerce')\n",
        "df['Populacao'] = pd.to_numeric(df['Populacao'], errors='coerce')\n",
        "\n",
        "df['TaxaDesemprego'] = (1 - df['PessoalOcupado'] / df['Populacao']) * 100\n",
        "print(df[['Municipio', 'TaxaDesemprego']])"
      ],
      "metadata": {
        "colab": {
          "base_uri": "https://localhost:8080/"
        },
        "id": "1jA-gP5DNwH0",
        "outputId": "6538d702-557e-48d1-875c-5983f2b892ba"
      },
      "execution_count": null,
      "outputs": [
        {
          "output_type": "stream",
          "name": "stdout",
          "text": [
            "                     Municipio  TaxaDesemprego\n",
            "0      Campina do Monte Alegre   -14296.493594\n",
            "1                  Elói Mendes       79.349209\n",
            "2                    Silveiras   -10686.371710\n",
            "3                 Silva Jardim       85.492739\n",
            "4       Pindorama do Tocantins    -4575.782973\n",
            "...                        ...             ...\n",
            "33415            Monteirópolis    -6356.561149\n",
            "33416                    Amapá    -4519.535888\n",
            "33417      Fernando de Noronha       27.801372\n",
            "33418                     Faro    -7509.618105\n",
            "33419        Serra dos Aimorés    -9665.042980\n",
            "\n",
            "[33420 rows x 2 columns]\n"
          ]
        }
      ]
    },
    {
      "cell_type": "code",
      "source": [
        "#Porcentagem de óbitos com nascimentos nas 10 cidades de maior PIB\n",
        "\n",
        "top10_pib = df.nlargest(10, 'PIB')\n",
        "top10_pib['TaxaObitos'] = (top10_pib['NrObitosInfantis'] / top10_pib['NrNascimentos']) * 100\n",
        "print(top10_pib[['Municipio', 'TaxaObitos']])\n"
      ],
      "metadata": {
        "colab": {
          "base_uri": "https://localhost:8080/"
        },
        "id": "FmHlf1EkN5xh",
        "outputId": "930d8d2a-b13e-4cc9-b3fa-d140bdf57722"
      },
      "execution_count": null,
      "outputs": [
        {
          "output_type": "stream",
          "name": "stdout",
          "text": [
            "                 Municipio   TaxaObitos\n",
            "7532            São Marcos     0.000000\n",
            "990                Inhumas     1.109570\n",
            "1702          Rio Negrinho     0.325203\n",
            "29212  Palmeira dos Índios  1180.173092\n",
            "4961        Paraíba do Sul     2.480916\n",
            "5585                Juruti  2016.498625\n",
            "13861    Bom Jesus da Lapa  1382.886776\n",
            "3346       Chapadão do Céu     0.000000\n",
            "13176       Biritiba-Mirim     2.028986\n",
            "15467             Quissamã     0.928793\n"
          ]
        }
      ]
    },
    {
      "cell_type": "code",
      "source": [
        "#Quantidade de indústrias por região\n",
        "\n",
        "industria_por_regiao = df.groupby('Regiao')['QtEmpresas'].sum()\n",
        "print(industria_por_regiao)\n"
      ],
      "metadata": {
        "colab": {
          "base_uri": "https://localhost:8080/"
        },
        "id": "r3MHkeIBOCUF",
        "outputId": "4a156c36-9604-4369-e2f1-8752413d5fdc"
      },
      "execution_count": null,
      "outputs": [
        {
          "output_type": "stream",
          "name": "stdout",
          "text": [
            "Regiao\n",
            "Centro-Oeste     580129.668\n",
            "Nordeste        1635752.272\n",
            "Norte            369689.769\n",
            "Sudeste         2041030.693\n",
            "Sul             1474156.004\n",
            "Name: QtEmpresas, dtype: float64\n"
          ]
        }
      ]
    },
    {
      "cell_type": "code",
      "source": [
        "#Relação entre empresas na cidade/região com PIB\n",
        "\n",
        "correlacao = df[['QtEmpresas', 'PIB']].corr()\n",
        "print(correlacao)\n"
      ],
      "metadata": {
        "colab": {
          "base_uri": "https://localhost:8080/"
        },
        "id": "uaCP3YiLOHq9",
        "outputId": "6dcaa615-fef6-4023-dd5d-3b7fe5dad8dc"
      },
      "execution_count": null,
      "outputs": [
        {
          "output_type": "stream",
          "name": "stdout",
          "text": [
            "            QtEmpresas       PIB\n",
            "QtEmpresas    1.000000  0.672342\n",
            "PIB           0.672342  1.000000\n"
          ]
        }
      ]
    },
    {
      "cell_type": "markdown",
      "source": [
        "1ª Pergunta: Qual foi a cidade com o maior número bruto de óbito infantil no período de 2019 a 2021 e qual foi a cidade com a menor razão entre natalidade/óbito infantil nesse mesmo período?\n",
        "\n",
        "2ª Pergunta: Qual a diferença do número total de empresas entre o período de 2016 e 2018 e entre 2019 e 2021? O que podemos concluir com esses dados?\n",
        "\n",
        "3ª Pergunta: Qual a soma total do maior valor de produção agrícola de cada cidade entre os anos de 2016 e 2018 e qual é o valor dessa mesma soma entre os anos de 2019 e 2021?\n",
        "\n",
        "4ª Pergunta: Durante os anos de 2019, 2020 e 2021, quais cidades tiveram a pior relação entre area plantada e area colhida? Qual a diferença desses valores para os anos de 2016, 2017 e 2018 para essas mesmas cidades?\n",
        "\n",
        "5ª Pergunta: Considerando as 10 cidades com maior produção pecuária entre os anos de 2016 e 2018, qual a diferença nessa produção para as mesmas cidades no período de 2019 e 2021?"
      ],
      "metadata": {
        "id": "BfGiObwhOdxg"
      }
    },
    {
      "cell_type": "markdown",
      "source": [
        "\n",
        "\n",
        "*   Qual foi o impacto da pandemia no PIB dos municípios em 2020?\n",
        "*   Qual foi o impacto da pandemia nas exportações e importações por região?\n",
        "*   Qual a relação entre PIB e exportações/importações? Municípios com maior PIB são mais exportadores?\n",
        "*   Qual o impacto das receitas municipais na qualidade de vida? Podem ser encontradas relações entre receitas e taxa de mortalidade infantil?\n",
        "*   Municípios que receberam mais transferências de capital tiveram maior crescimento econômico?"
      ],
      "metadata": {
        "id": "TiRm_v0yRXBl"
      }
    },
    {
      "cell_type": "code",
      "source": [],
      "metadata": {
        "id": "NdUnUAqHSZTv"
      },
      "execution_count": null,
      "outputs": []
    }
  ]
}
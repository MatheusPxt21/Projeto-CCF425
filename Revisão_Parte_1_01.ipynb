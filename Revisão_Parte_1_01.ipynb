{
  "nbformat": 4,
  "nbformat_minor": 0,
  "metadata": {
    "colab": {
      "provenance": []
    },
    "kernelspec": {
      "name": "python3",
      "display_name": "Python 3"
    },
    "language_info": {
      "name": "python"
    }
  },
  "cells": [
    {
      "cell_type": "markdown",
      "source": [
        "# **Projeto de CCF 425 - Introdução à Ciência de Dados**"
      ],
      "metadata": {
        "id": "6vLSIshvUiHq"
      }
    },
    {
      "cell_type": "markdown",
      "source": [
        "## Introdução\n",
        "  <p>Neste projeto, realizaremos um estudo baseado no conjunto de dados BrStats, disponibilizado pelo Prof. Fabrício e pelo monitor João Marcos, além de quatro outros conjuntos de dados selecionados pelo grupo (casos_2020, casos_2021, casos_2022 e casos_2023). O objetivo é analisar os impactos da pandemia de Covid-19 no Brasil e investigar possíveis relações entre as características socioeconômicas das cidades e o nível de impacto da pandemia.\n",
        "  <p>O primeiro conjunto de dados, \"BrStats: A Socioeconomic Statistics Dataset of the Brazilian Cities\", contém informações estatísticas sobre cidades brasileiras, compiladas a partir de fontes como IBGE, IPEA e DATASUS. Entre os indicadores disponíveis, destacam-se o PIB, a população, as receitas municipais, além de dados sobre nascimentos e óbitos infantis, entre outros fatores que ajudam a compreender o desenvolvimento dessas localidades.\n",
        "  <p>Diante da pandemia global da Covid-19, que impactou todas as regiões do mundo, este estudo busca explorar como diferentes cidades brasileiras foram afetadas. Com base nos dados coletados, investigaremos se há correlação entre as características socioeconômicas das cidades e a severidade dos impactos causados pela pandemia, contribuindo para uma melhor compreensão dos fatores que influenciaram a propagação e os efeitos da doença no Brasil."
      ],
      "metadata": {
        "id": "qHdmzLENUqkQ"
      }
    },
    {
      "cell_type": "markdown",
      "source": [
        "## Entendimento Inicial dos Dados\n",
        "<p>Nessa seção iremos importar os dados, buscando realizar uma primeira análise do Dataset.\n",
        "<p>Para tal, utilizaremos a biblioteca pandas e numpy"
      ],
      "metadata": {
        "id": "ePvhLCPNYWme"
      }
    },
    {
      "cell_type": "code",
      "source": [
        "import pandas as pd\n",
        "import numpy as np"
      ],
      "metadata": {
        "id": "75EfKJ8rYw4X"
      },
      "execution_count": null,
      "outputs": []
    },
    {
      "cell_type": "markdown",
      "source": [
        "<p>Para a realização do próximo passo, importe o arquivo disponibilizado no Capítulo 4 do artigo \"BrStats: a socioeconomic statistics dataset of the Brazilian cities\" com o nome \"BrStats.csv\".\n",
        "<p>Devido suas características, foi preciso passar como parâmetro a separação utilizando ponto e vírgula, bem como a opção 'low_memory=False', para que o GoogleColab consiga lidar com esse grande volume de dados."
      ],
      "metadata": {
        "id": "1fDSgEKCY3xK"
      }
    },
    {
      "cell_type": "code",
      "source": [
        "df_br = pd.read_csv('BrStats.csv', sep=\";\", low_memory=False)\n",
        "print(df_br.dtypes)\n",
        "print(f\"BrStats: {df_br.shape[0]} linhas, {df_br.shape[1]} colunas\")"
      ],
      "metadata": {
        "id": "AfbqSkZ7Y1vH",
        "colab": {
          "base_uri": "https://localhost:8080/"
        },
        "outputId": "88806452-1602-4e9d-bfa3-5f14ea854927"
      },
      "execution_count": null,
      "outputs": [
        {
          "output_type": "stream",
          "name": "stdout",
          "text": [
            "Ano                              int64\n",
            "CDMunicipio                      int64\n",
            "Populacao                       object\n",
            "PessoalOcupado                  object\n",
            "PessoalAssalariado              object\n",
            "VrSalarios                      object\n",
            "PIB                             object\n",
            "QtEmpresas                     float64\n",
            "AreaPlantada_h                 float64\n",
            "AreaColhida_h                  float64\n",
            "VlProducaoAgricola             float64\n",
            "VlProducaoPecuaria             float64\n",
            "Area                            object\n",
            "Importacoes_US$                 object\n",
            "Exportacoes_US$                 object\n",
            "Receitas_R$                     object\n",
            "Transferencias_correntes_R$     object\n",
            "Transferencias_capital_R$       object\n",
            "NrNascimentos                  float64\n",
            "NrObitosInfantis               float64\n",
            "povoamento                      object\n",
            "UF                              object\n",
            "Municipio                       object\n",
            "Regiao                          object\n",
            "dtype: object\n",
            "BrStats: 33420 linhas, 24 colunas\n"
          ]
        }
      ]
    },
    {
      "cell_type": "markdown",
      "source": [
        "### Extraindo as colunas com vírgula\n",
        "\n",
        "A partir dessa extração, saberemos quais colunas tratar para melhorar nossa análise dos dados."
      ],
      "metadata": {
        "id": "rX9qQbUq3qzk"
      }
    },
    {
      "cell_type": "code",
      "source": [
        "colunas_com_virgula = df_br.columns[df_br.apply(lambda col: col.astype(str).str.contains(',', na=False).any())]\n",
        "\n",
        "print(colunas_com_virgula)"
      ],
      "metadata": {
        "colab": {
          "base_uri": "https://localhost:8080/"
        },
        "id": "A3CBK_kOF_3a",
        "outputId": "06e9a0e3-9a09-4ade-873b-d404a4153ba6"
      },
      "execution_count": null,
      "outputs": [
        {
          "output_type": "stream",
          "name": "stdout",
          "text": [
            "Index(['Area', 'Importacoes_US$', 'Exportacoes_US$', 'Receitas_R$',\n",
            "       'Transferencias_correntes_R$', 'Transferencias_capital_R$',\n",
            "       'povoamento'],\n",
            "      dtype='object')\n"
          ]
        }
      ]
    },
    {
      "cell_type": "markdown",
      "source": [
        "## Pré-processamento de Dados\n",
        "\n",
        "### Conversão de Tipos de Dados\n",
        "\n",
        "Identificamos colunas numéricas armazenadas como texto devido a:\n",
        "- Uso de vírgulas como separador decimal\n",
        "- Pontos como separador de milhares\n",
        "- Valores ausentes representados como espaços em branco\n",
        "\n",
        "**Solução implementada:**\n"
      ],
      "metadata": {
        "id": "cjyRCtJMb51I"
      }
    },
    {
      "cell_type": "code",
      "source": [
        "colunas_numericas_float = ['Area', 'Importacoes_US$', 'Exportacoes_US$', 'Receitas_R$',\n",
        "                     'Transferencias_correntes_R$', 'Transferencias_capital_R$', 'povoamento']\n",
        "\n",
        "colunas_numericas_int = ['Populacao', 'PessoalOcupado', 'PessoalAssalariado', 'VrSalarios',\n",
        "                     'PIB', 'QtEmpresas','AreaPlantada_h', 'AreaColhida_h', 'VlProducaoAgricola', 'NrNascimentos',\n",
        "                         'VlProducaoPecuaria', 'NrObitosInfantis']\n",
        "\n",
        "\n",
        "\n",
        "df_br[colunas_numericas_float] = df_br[colunas_numericas_float].apply(lambda x:\n",
        "    x.astype(str).str.replace('.', '', regex=False).str.replace(',', '.', regex=False)\n",
        "    .replace('nan', None).astype(float)\n",
        ")\n",
        "\n",
        "\n",
        "df_br[colunas_numericas_int] = df_br[colunas_numericas_int].apply(lambda x:\n",
        "    x.astype(str).str.replace('.', '', regex=False).replace('nan', '0')\n",
        "    .fillna(0).astype(int)\n",
        ")\n",
        "\n",
        "\n",
        "print(df_br.dtypes)\n",
        "print(f\"BrStats: {df_br.shape[0]} linhas, {df_br.shape[1]} colunas\")"
      ],
      "metadata": {
        "id": "Zolj4yaQabtm",
        "colab": {
          "base_uri": "https://localhost:8080/"
        },
        "outputId": "1f16cd19-5c3c-4409-a68a-20d8aaa4cbcc"
      },
      "execution_count": null,
      "outputs": [
        {
          "output_type": "stream",
          "name": "stdout",
          "text": [
            "Ano                              int64\n",
            "CDMunicipio                      int64\n",
            "Populacao                        int64\n",
            "PessoalOcupado                   int64\n",
            "PessoalAssalariado               int64\n",
            "VrSalarios                       int64\n",
            "PIB                              int64\n",
            "QtEmpresas                       int64\n",
            "AreaPlantada_h                   int64\n",
            "AreaColhida_h                    int64\n",
            "VlProducaoAgricola               int64\n",
            "VlProducaoPecuaria               int64\n",
            "Area                           float64\n",
            "Importacoes_US$                float64\n",
            "Exportacoes_US$                float64\n",
            "Receitas_R$                    float64\n",
            "Transferencias_correntes_R$    float64\n",
            "Transferencias_capital_R$      float64\n",
            "NrNascimentos                    int64\n",
            "NrObitosInfantis                 int64\n",
            "povoamento                     float64\n",
            "UF                              object\n",
            "Municipio                       object\n",
            "Regiao                          object\n",
            "dtype: object\n",
            "BrStats: 33420 linhas, 24 colunas\n"
          ]
        }
      ]
    },
    {
      "cell_type": "markdown",
      "source": [
        "**Resultado:**\n",
        "\n",
        "- Colunas numéricas convertidas para float ou int\n",
        "- Valores ausentes padronizados como 0\n",
        "- Dados prontos para análise quantitativa\n",
        "\n",
        "Com os dados tratados desta forma, a análise dos mesmos e a obtenção de informações a partir deles ocorrerá de forma mais precisa."
      ],
      "metadata": {
        "id": "fsS9GsR52d0s"
      }
    },
    {
      "cell_type": "markdown",
      "source": [
        "### Descrição do Conjunto de Dados - BrStats\n",
        "\n",
        "Ano (int64): Indica o ano de referência dos dados, armazenado como inteiro.\n",
        "\n",
        "CDMunicipio (int64): Código do município conforme a base de dados oficial, armazenado como intero.\n",
        "\n",
        "Populacao (int64): Número total de habitantes do município, armazenado como inteiro.\n",
        "\n",
        "PessoalOcupado (int64): Número total de pessoas empregadas no município, incluindo empregos formais e informais. Armazenado como inteiro.\n",
        "\n",
        "PessoalAssalariado (int64): Número total de pessoas empregadas formalmente, com vínculo empregatício e recebendo salário. Armazenado como inteiro.\n",
        "\n",
        "VrSalarios (int64): Valor total da massa salarial paga no município. Armazenado como inteiro.\n",
        "\n",
        "PIB(int64): Produto Interno Bruto do município, representando a soma de todos os bens e serviços produzidos no período. Armazenado como inteiro.\n",
        "\n",
        "QtEmpresas (int64): Quantidade total de empresas registradas no município, registrado como inteiro.\n",
        "\n",
        "AreaPlantada_h (int64): Área total plantada na agricultura, armazenado como inteiro.\n",
        "\n",
        "AreaColhida_h (int64): Área total colhida na agricultura, armazenado como inteiro.\n",
        "\n",
        "VlProducaoAgricola (int64): Valor total da produção agrícola do município, armazenado como inteiro.\n",
        "\n",
        "VlProducaoPecuaria (int64): Valor total da produção pecuária do município, armazenado como inteiro.\n",
        "\n",
        "Area (float64): Área total do município. Está armazenada como flutuante.\n",
        "\n",
        "Importacoes_US$ (float64): Valor total das importações do município em dólares americanos. Armazenado como flutuante.\n",
        "\n",
        "Exportacoes_US$ (float64): Valor total das exportações do município em dólares americanos. Armazenado como flutuante.\n",
        "\n",
        "Receitas_R$ (float64): Receita total do município em reais. Armazenado como flutuante.\n",
        "\n",
        "Transferencias_correntes_R$ (float64): Valor recebido pelo município por meio de transferências correntes. Armazenado como flutuante.\n",
        "\n",
        "Transferencias_capital_R$ (float64): Valor recebido pelo município por meio de transferências de capital. Armazenado como flutuante.\n",
        "\n",
        "NrNascimentos (int64): Número total de nascimentos registrados no município, registrado como inteiro.\n",
        "\n",
        "NrObitosInfantis (int64): Número total de óbitos infantis registrados no município, registrado como inteiro.\n",
        "\n",
        "povoamento (float64): Número de pessoas por km². Armazenado como flutuante.\n",
        "\n",
        "UF(object): Estado a que pertence o município. Armazenado como texto (sigla do estado).\n",
        "\n",
        "Municipio (object): Nome do município correspondente aos dados. Armazenado como texto.\n",
        "\n",
        "Regiao (object): Região geográfica do município . Armazenado como texto."
      ],
      "metadata": {
        "id": "9J4TRQyqc2xi"
      }
    },
    {
      "cell_type": "markdown",
      "source": [
        "## Importação dos Dados sobre a COVID-19\n",
        "\n",
        "<p>Nessa subseção faremos a importação e também compreenção dos dados que obtivemos sobre a pandemia de COVID 19 que afetou o Brasil e o mundo entre 2020 e 2023.\n",
        "<p>O primeiro caso da doença no Brasil foi registrada no dia 25 de Fevereiro de 2020, na cidade de São Paulo. Desde então, o Ministério da Saúde realizou o monitoramento diário do avanço da pandemia em terras tupiniquins.\n",
        "<p>Utilizando por base o Ministério da Saúde, o Brasil.IO e o perfil @coronavirusbra1, este levantamento realizado pelo Departamento de Física da Universidade Federal de Viçosa, liderado pelo Professor Wesley Cota, apresenta dados desde a 9ª até a 311ª semana da pandemia no Brasil.\n",
        "<p>A seguir faremos a importação desses dados, nomeados como 'casos_2020.csv', 'casos_2021.csv', 'casos_2022.csv' e 'casos_2023.csv'.\n"
      ],
      "metadata": {
        "id": "V7ssiKFLeiyk"
      }
    },
    {
      "cell_type": "code",
      "source": [
        "df_2020 = pd.read_csv('casos_2020.csv', low_memory=False)\n",
        "print(df_2020.dtypes)\n",
        "print(f\"Casos 2020: {df_2020.shape[0]} linhas, {df_2020.shape[1]} colunas\")"
      ],
      "metadata": {
        "id": "X9vf0olzhkzN",
        "colab": {
          "base_uri": "https://localhost:8080/"
        },
        "outputId": "bb09cf0f-7791-4159-b286-25718891e7ec"
      },
      "execution_count": null,
      "outputs": [
        {
          "output_type": "stream",
          "name": "stdout",
          "text": [
            "epi_week                             int64\n",
            "date                                object\n",
            "state                               object\n",
            "city                                object\n",
            "ibgeID                               int64\n",
            "newDeaths                            int64\n",
            "deaths                               int64\n",
            "newCases                             int64\n",
            "totalCases                           int64\n",
            "deaths_per_100k_inhabitants        float64\n",
            "totalCases_per_100k_inhabitants    float64\n",
            "deaths_by_totalCases               float64\n",
            "dtype: object\n",
            "Casos 2020: 1314380 linhas, 12 colunas\n"
          ]
        }
      ]
    },
    {
      "cell_type": "code",
      "source": [
        "df_2021 = pd.read_csv('casos_2021.csv', low_memory=False)\n",
        "print(df_2021.dtypes)\n",
        "print(f\"Casos 2021: {df_2021.shape[0]} linhas, {df_2021.shape[1]} colunas\")"
      ],
      "metadata": {
        "id": "rlFRNbjThpb9",
        "colab": {
          "base_uri": "https://localhost:8080/"
        },
        "outputId": "f89cdb39-e81f-4981-dec6-82e939d2e953"
      },
      "execution_count": null,
      "outputs": [
        {
          "output_type": "stream",
          "name": "stdout",
          "text": [
            "epi_week                             int64\n",
            "date                                object\n",
            "state                               object\n",
            "city                                object\n",
            "ibgeID                               int64\n",
            "newDeaths                            int64\n",
            "deaths                               int64\n",
            "newCases                             int64\n",
            "totalCases                           int64\n",
            "deaths_per_100k_inhabitants        float64\n",
            "totalCases_per_100k_inhabitants    float64\n",
            "deaths_by_totalCases               float64\n",
            "dtype: object\n",
            "Casos 2021: 2042733 linhas, 12 colunas\n"
          ]
        }
      ]
    },
    {
      "cell_type": "code",
      "source": [
        "df_2022 = pd.read_csv('casos_2022.csv', low_memory=False)\n",
        "print(df_2022.dtypes)\n",
        "print(f\"Casos 2022: {df_2022.shape[0]} linhas, {df_2022.shape[1]} colunas\")"
      ],
      "metadata": {
        "id": "KG7vScgzhp-N",
        "colab": {
          "base_uri": "https://localhost:8080/"
        },
        "outputId": "1756db36-0492-428f-f4b0-7b83d7d8d9a1"
      },
      "execution_count": null,
      "outputs": [
        {
          "output_type": "stream",
          "name": "stdout",
          "text": [
            "epi_week                             int64\n",
            "date                                object\n",
            "state                               object\n",
            "city                                object\n",
            "ibgeID                               int64\n",
            "newDeaths                            int64\n",
            "deaths                               int64\n",
            "newCases                             int64\n",
            "totalCases                           int64\n",
            "deaths_per_100k_inhabitants        float64\n",
            "totalCases_per_100k_inhabitants    float64\n",
            "deaths_by_totalCases               float64\n",
            "dtype: object\n",
            "Casos 2022: 2042905 linhas, 12 colunas\n"
          ]
        }
      ]
    },
    {
      "cell_type": "code",
      "source": [
        "df_2023 = pd.read_csv('casos_2023.csv', low_memory=False)\n",
        "print(df_2023.dtypes)\n",
        "print(f\"Casos 2023: {df_2023.shape[0]} linhas, {df_2023.shape[1]} colunas\")"
      ],
      "metadata": {
        "id": "6Cg0mpY4hs5T",
        "colab": {
          "base_uri": "https://localhost:8080/"
        },
        "outputId": "d6a612be-51ef-458c-9c30-fd81d78164cf"
      },
      "execution_count": null,
      "outputs": [
        {
          "output_type": "stream",
          "name": "stdout",
          "text": [
            "epi_week                             int64\n",
            "date                                object\n",
            "state                               object\n",
            "city                                object\n",
            "ibgeID                               int64\n",
            "newDeaths                            int64\n",
            "deaths                               int64\n",
            "newCases                             int64\n",
            "totalCases                           int64\n",
            "deaths_per_100k_inhabitants        float64\n",
            "totalCases_per_100k_inhabitants    float64\n",
            "deaths_by_totalCases               float64\n",
            "dtype: object\n",
            "Casos 2023: 430969 linhas, 12 colunas\n"
          ]
        }
      ]
    },
    {
      "cell_type": "markdown",
      "source": [
        "### Descrição dos Dados - casos_2020 a 2023\n",
        "\n",
        "Como é possível observar pela execução dos trechos de código que antecedem essa subseção, os códigos foram formatados como esperado, não necessitando uma conversão como para o DataSet anterior.\n",
        "\n",
        "date: Data do registro, no formato YYYY-MM-DD.\n",
        "\n",
        "country: País dos dados, que é sempre \"Brazil\".\n",
        "\n",
        "state: Sigla da unidade federativa (UF) ou \"TOTAL\" quando se refere ao país inteiro.\n",
        "\n",
        "city: Nome completo do município no formato \"Cidade/UF\". Pode ser \"CASO SEM LOCALIZACAO DEFINIDA/UF\", indicando casos na unidade federativa sem município definido.\n",
        "\n",
        "ibgeID: ID único do município fornecido pelo Instituto Brasileiro de Geografia e Estatística (IBGE).\n",
        "\n",
        "newDeaths: Diferença entre o número de óbitos da data correspondente e o dia anterior.\n",
        "\n",
        "deaths: Número acumulado de óbitos até aquela data.\n",
        "\n",
        "newCases: Diferença entre o número de casos da data correspondente e o dia anterior.\n",
        "\n",
        "totalCases: Número acumulado de casos até aquela data.\n",
        "\n",
        "deaths_per_100k_inhabitants: Número de óbitos por 100.000 habitantes naquela localidade.\n",
        "\n",
        "totalCases_per_100k_inhabitants: Número de casos por 100.000 habitantes naquela localidade.\n",
        "\n",
        "deaths_by_totalCases: Proporção entre o número de óbitos e o número total de casos."
      ],
      "metadata": {
        "id": "OC6ZfXCPnq1k"
      }
    },
    {
      "cell_type": "markdown",
      "source": [
        "### Verificação de Valores Nulos\n",
        "\n",
        "<p>Nessa etapa faremos um levantamento da existência ou não de valores nulos nos conjuntos de dados que utilizaremos.\n",
        "<p>Com base no resultado que obtivermos aqui iremos determinar qual ação deve ser tomada para cada característica que eventualmente possa estar nula, caso seja de interesse do grupo utilizá-la."
      ],
      "metadata": {
        "id": "YPtN7drVoOfE"
      }
    },
    {
      "cell_type": "code",
      "source": [
        "print('BrStats:\\n', df_br.isnull().sum())\n",
        "print('Casos 2020:\\n', df_2020.isnull().sum())\n",
        "print('Casos 2021:\\n', df_2021.isnull().sum())\n",
        "print('Casos 2022:\\n', df_2022.isnull().sum())\n",
        "print('Casos 2023:\\n', df_2023.isnull().sum())"
      ],
      "metadata": {
        "id": "0GaLrgjupNf-",
        "colab": {
          "base_uri": "https://localhost:8080/"
        },
        "outputId": "e7ebeda8-bcd8-43c6-be07-68296c8f06de"
      },
      "execution_count": null,
      "outputs": [
        {
          "output_type": "stream",
          "name": "stdout",
          "text": [
            "BrStats:\n",
            " Ano                                0\n",
            "CDMunicipio                        0\n",
            "Populacao                          0\n",
            "PessoalOcupado                     0\n",
            "PessoalAssalariado                 0\n",
            "VrSalarios                         0\n",
            "PIB                                0\n",
            "QtEmpresas                         0\n",
            "AreaPlantada_h                     0\n",
            "AreaColhida_h                      0\n",
            "VlProducaoAgricola                 0\n",
            "VlProducaoPecuaria                 0\n",
            "Area                              30\n",
            "Importacoes_US$                20375\n",
            "Exportacoes_US$                21392\n",
            "Receitas_R$                    11173\n",
            "Transferencias_correntes_R$      243\n",
            "Transferencias_capital_R$        243\n",
            "NrNascimentos                      0\n",
            "NrObitosInfantis                   0\n",
            "povoamento                        30\n",
            "UF                                 0\n",
            "Municipio                          0\n",
            "Regiao                             0\n",
            "dtype: int64\n",
            "Casos 2020:\n",
            " epi_week                           0\n",
            "date                               0\n",
            "state                              0\n",
            "city                               0\n",
            "ibgeID                             0\n",
            "newDeaths                          0\n",
            "deaths                             0\n",
            "newCases                           0\n",
            "totalCases                         0\n",
            "deaths_per_100k_inhabitants        0\n",
            "totalCases_per_100k_inhabitants    0\n",
            "deaths_by_totalCases               0\n",
            "dtype: int64\n",
            "Casos 2021:\n",
            " epi_week                           0\n",
            "date                               0\n",
            "state                              0\n",
            "city                               0\n",
            "ibgeID                             0\n",
            "newDeaths                          0\n",
            "deaths                             0\n",
            "newCases                           0\n",
            "totalCases                         0\n",
            "deaths_per_100k_inhabitants        0\n",
            "totalCases_per_100k_inhabitants    0\n",
            "deaths_by_totalCases               0\n",
            "dtype: int64\n",
            "Casos 2022:\n",
            " epi_week                           0\n",
            "date                               0\n",
            "state                              0\n",
            "city                               0\n",
            "ibgeID                             0\n",
            "newDeaths                          0\n",
            "deaths                             0\n",
            "newCases                           0\n",
            "totalCases                         0\n",
            "deaths_per_100k_inhabitants        0\n",
            "totalCases_per_100k_inhabitants    0\n",
            "deaths_by_totalCases               0\n",
            "dtype: int64\n",
            "Casos 2023:\n",
            " epi_week                           0\n",
            "date                               0\n",
            "state                              0\n",
            "city                               0\n",
            "ibgeID                             0\n",
            "newDeaths                          0\n",
            "deaths                             0\n",
            "newCases                           0\n",
            "totalCases                         0\n",
            "deaths_per_100k_inhabitants        0\n",
            "totalCases_per_100k_inhabitants    0\n",
            "deaths_by_totalCases               0\n",
            "dtype: int64\n"
          ]
        }
      ]
    },
    {
      "cell_type": "markdown",
      "source": [
        "### Criação de Novos Conjuntos de Dados\n",
        "\n",
        "<p>Visando ter apenas os valores totais da pandemia para cada ano, realizamos uma limpeza dos dados, criando novos conjuntos de dados com estes.\n",
        "<p>Esses novos DataSets serão utilizados nas análises ao longo do projeto.\n",
        "<p>Como os dados são cumulativos, o código obtém o maior número relacionado a cada cidade e, em sequência, cria o conjunto 'df_ano_max.csv'."
      ],
      "metadata": {
        "id": "w94WqC-gqhNw"
      }
    },
    {
      "cell_type": "code",
      "source": [
        "#filtragem das cidades não nulas\n",
        "df_2020 = df_2020[df_2020['city'].notna()]\n",
        "df_2021 = df_2021[df_2021['city'].notna()]\n",
        "df_2022 = df_2022[df_2022['city'].notna()]\n",
        "df_2023 = df_2023[df_2023['city'].notna()]\n",
        "\n",
        "df_2020_max = df_2020.groupby('city')[['deaths', 'totalCases', 'deaths_by_totalCases']].max().reset_index()\n",
        "df_2021_max = df_2021.groupby('city')[['deaths', 'totalCases', 'deaths_by_totalCases']].max().reset_index()\n",
        "df_2022_max = df_2022.groupby('city')[['deaths', 'totalCases', 'deaths_by_totalCases']].max().reset_index()\n",
        "df_2023_max = df_2023.groupby('city')[['deaths', 'totalCases', 'deaths_by_totalCases']].max().reset_index()\n",
        "\n",
        "df_2020_max.to_csv('df_2020_max.csv', index=False)\n",
        "df_2021_max.to_csv('df_2021_max.csv', index=False)\n",
        "df_2022_max.to_csv('df_2022_max.csv', index=False)\n",
        "df_2023_max.to_csv('df_2023_max.csv', index=False)"
      ],
      "metadata": {
        "id": "aN3kUQvQrZ1-"
      },
      "execution_count": null,
      "outputs": []
    },
    {
      "cell_type": "markdown",
      "source": [
        "## Perguntas\n",
        "\n",
        "<p>Nessa seção apresentaremos algumas perguntas que foram elaboradas pelo grupo e serão analisadas no decorrer do Projeto.\n",
        "<p>Como explicitado na introdução, muitas dessas perguntas tentarão responder e encontrar uma correlação entre as características das cidades e o impacto que a pandemia de COVID-19 gerou nestas.\n",
        "<p>Além das perguntas voltadas a esta temática, algumas outras serão apresentadas, que representam mais algumas curiosidades dos integrantes do grupo, como algumas envolvendo as cidades-natal destes (Caratinga, Itaúna, Pará de Minas e Ubá, todas de Minas Gerais).\n",
        "\n",
        "\n",
        "1.   Qual cidade registrou o maior número absoluto de óbitos infantis e qual apresentou a maior razão óbito/nascimento infantil durante a pandemia (2020-2021)?\n",
        "\n",
        "2.   Qual foi a variação no número total de empresas entre o período pré-pandemia (2016-2019) e o período pandêmico (2020-2021)? Que conclusões podemos extrair dessa análise?\n",
        "\n",
        "3.   Qual a soma dos maiores valores de produção agrícola por cidade no período pré-pandêmico (2016-2019) comparado ao período pandêmico (2020-2021)?\n",
        "\n",
        "4.   Quais cidades apresentaram a menor eficiência agrícola (razão entre área colhida e área plantada) durante a pandemia (2020-2021) e como isso se compara ao período anterior (2016-2019)?\n",
        "\n",
        "5.   Considerando as 10 cidades com maior produção pecuária no período pré-pandêmico, qual foi a variação na produção dessas cidades durante a pandemia?\n",
        "\n",
        "6.  Qual foi o impacto da pandemia no PIB dos municípios em 2020? **ELABORAR MELHOR***\n",
        "\n",
        "7.   Existe correlação entre receitas municipais e indicadores de qualidade de vida, como mortalidade infantil?\n",
        "\n",
        "8.   Há relação direta entre área plantada/colhida e valor total da produção agrícola?\n",
        "\n",
        "9.   Municípios com maior volume de exportações apresentam melhores indicadores econômicos?\n",
        "\n",
        "10.   Qual foi o impacto da pandemia nos fluxos de importação e exportação por região?\n",
        "\n",
        "11.   Quais foram os valores extremos (máximos e mínimos) de PIB, importações e exportações nas cidades de Caratinga, Itaúna, Pará de Minas e Ubá durante a pandemia (2020-2021)?\n",
        "\n",
        "12.   Como se comparam as taxas de letalidade (deaths_by_totalCases) nas cidades-natal dos integrantes do grupo em relação aos seus PIBs?\n",
        "\n",
        "13.   Qual porcentagem da população foi infectada por COVID-19 anualmente nas cidades-natal dos integrantes?\n",
        "\n",
        "14.   Qual a mortalidade por COVID-19 nas 10 cidades com maior e menor PIB? Existe correlação entre PIB e mortalidade?\n",
        "\n",
        "\n"
      ],
      "metadata": {
        "id": "bLWv_Cwgsd1n"
      }
    },
    {
      "cell_type": "markdown",
      "source": [
        "## Responsabilidades de Cada Integrante Nessa Etapa\n",
        "\n",
        "\n",
        "\n",
        "*   Henrique Alves Campos\n",
        "**  Perguntas e Código das Perguntas\n",
        "\n",
        "*   Marcos Biscotto de Oliveira\n",
        "**  Perguntas, Análise Inicial e Código das Perguntas\n",
        "\n",
        "*   Matheus Nascimento Peixoto\n",
        "**  Obtenção dos Conjuntos de Dados, Análise Inicial, algumas perguntas e Organização do Documento e GitHub\n",
        "\n",
        "*   Matheus Nogueira Moreira\n",
        "**  Perguntas e Código das Perguntas\n"
      ],
      "metadata": {
        "id": "SF_5Pj0xwd4n"
      }
    }
  ]
}